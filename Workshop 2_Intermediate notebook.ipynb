{
 "cells": [
  {
   "cell_type": "code",
   "execution_count": 16,
   "id": "4e0c14db-1b39-4266-8417-c1c970f54757",
   "metadata": {},
   "outputs": [
    {
     "data": {
      "text/plain": [
       "['.anaconda',\n",
       " '.conda',\n",
       " '.condarc',\n",
       " '.continuum',\n",
       " '.IBM',\n",
       " '.ipynb_checkpoints',\n",
       " '.ipython',\n",
       " '.jupyter',\n",
       " '.matplotlib',\n",
       " '.ms-ad',\n",
       " '.spss',\n",
       " '.virtual_documents',\n",
       " '3D Objects',\n",
       " 'AppData',\n",
       " 'Application Data',\n",
       " 'Contacts',\n",
       " 'Cookies',\n",
       " 'Desktop',\n",
       " 'Downloads',\n",
       " 'Favorites',\n",
       " 'IntelGraphicsProfiles',\n",
       " 'Links',\n",
       " 'Local Settings',\n",
       " 'Music',\n",
       " 'My Documents',\n",
       " 'NetHood',\n",
       " 'NTUSER.DAT',\n",
       " 'ntuser.dat.LOG1',\n",
       " 'ntuser.dat.LOG2',\n",
       " 'NTUSER.DAT{53b39e88-18c4-11ea-a811-000d3aa4692b}.TM.blf',\n",
       " 'NTUSER.DAT{53b39e88-18c4-11ea-a811-000d3aa4692b}.TMContainer00000000000000000001.regtrans-ms',\n",
       " 'NTUSER.DAT{53b39e88-18c4-11ea-a811-000d3aa4692b}.TMContainer00000000000000000002.regtrans-ms',\n",
       " 'ntuser.ini',\n",
       " 'OneDrive',\n",
       " 'OneDrive - University of Aberdeen',\n",
       " 'Pictures',\n",
       " 'PrintHood',\n",
       " 'Recent',\n",
       " 'Saved Games',\n",
       " 'Searches',\n",
       " 'SendTo',\n",
       " 'Start Menu',\n",
       " 'Templates',\n",
       " 'Untitled.ipynb',\n",
       " 'Videos']"
      ]
     },
     "execution_count": 16,
     "metadata": {},
     "output_type": "execute_result"
    }
   ],
   "source": [
    "import os\n",
    "os.listdir()"
   ]
  },
  {
   "cell_type": "code",
   "execution_count": 6,
   "id": "787d1f60-fd19-482b-a8e5-9f471536d0d9",
   "metadata": {},
   "outputs": [
    {
     "data": {
      "text/plain": [
       "True"
      ]
     },
     "execution_count": 6,
     "metadata": {},
     "output_type": "execute_result"
    }
   ],
   "source": [
    "os.path.exists(\"/\")"
   ]
  },
  {
   "cell_type": "code",
   "execution_count": 68,
   "id": "11bdeddc-a302-4af2-b77c-7db423e1f44f",
   "metadata": {},
   "outputs": [
    {
     "data": {
      "text/plain": [
       "'Mike'"
      ]
     },
     "execution_count": 68,
     "metadata": {},
     "output_type": "execute_result"
    }
   ],
   "source": [
    "myList = [\"Mike\", \"Ellie\", \"Kim\", \"Luna\"] \n",
    "myList[0]"
   ]
  },
  {
   "cell_type": "code",
   "execution_count": 70,
   "id": "ffddfa98-22e1-4248-a4cc-e9c6105bc3e1",
   "metadata": {},
   "outputs": [
    {
     "data": {
      "text/plain": [
       "['Ellie', 'Kim']"
      ]
     },
     "execution_count": 70,
     "metadata": {},
     "output_type": "execute_result"
    }
   ],
   "source": [
    "myList[1:3]"
   ]
  },
  {
   "cell_type": "code",
   "execution_count": 24,
   "id": "ffaf8888-1131-42d7-a6ac-a1c59b0e2bc0",
   "metadata": {},
   "outputs": [],
   "source": [
    "import numpy as np\n",
    "import pandas as pd"
   ]
  },
  {
   "cell_type": "code",
   "execution_count": 64,
   "id": "a4687088-9ccf-4b2c-ac23-d0eb082dce38",
   "metadata": {},
   "outputs": [
    {
     "data": {
      "text/plain": [
       "['Mike', 'Ellie', 'Kim', 'Luna', 'Jeff', 'George', 7.4, 2.6]"
      ]
     },
     "execution_count": 64,
     "metadata": {},
     "output_type": "execute_result"
    }
   ],
   "source": [
    "myList[::1]"
   ]
  },
  {
   "cell_type": "code",
   "execution_count": 66,
   "id": "653bcc72-3cad-4d5c-845e-99b27b3db037",
   "metadata": {},
   "outputs": [
    {
     "data": {
      "text/plain": [
       "2.6"
      ]
     },
     "execution_count": 66,
     "metadata": {},
     "output_type": "execute_result"
    }
   ],
   "source": [
    "myList[-1]"
   ]
  },
  {
   "cell_type": "code",
   "execution_count": 32,
   "id": "6febc33b-fa53-4bf7-b940-1e0a10bc0255",
   "metadata": {},
   "outputs": [
    {
     "data": {
      "text/plain": [
       "['Luna', 'Kim', 'Ellie', 'Mike']"
      ]
     },
     "execution_count": 32,
     "metadata": {},
     "output_type": "execute_result"
    }
   ],
   "source": [
    "myList[::-1]"
   ]
  },
  {
   "cell_type": "code",
   "execution_count": 38,
   "id": "93eae355-df87-433d-908d-edb1cce07918",
   "metadata": {},
   "outputs": [
    {
     "data": {
      "text/plain": [
       "['Luna', 'Ellie']"
      ]
     },
     "execution_count": 38,
     "metadata": {},
     "output_type": "execute_result"
    }
   ],
   "source": [
    "myList[::-2]"
   ]
  },
  {
   "cell_type": "code",
   "execution_count": 72,
   "id": "7c4f24b3-cb51-4c25-b845-1a3567dc6586",
   "metadata": {},
   "outputs": [
    {
     "data": {
      "text/plain": [
       "336"
      ]
     },
     "execution_count": 72,
     "metadata": {},
     "output_type": "execute_result"
    }
   ],
   "source": [
    "dna_seqs = ['ATGGGACTGCCCTTGATGCCTCACGTATCCAAAAGCGTATCATGGAGCACTCGGAAACGCACTATAGCAATACCAGACCGTGATATACAACCAGATCACTCTACGATTAAACGACTGCGCCGCCGTATTGCGCTGCTTATCCGAGAAGCAGTCCCTCGTGCGACGCAGCACCAAGAACAAGTCTCAGAGTACCTTTGGACGTATGACTTCAGGATCGAGTCGGCGGCTAGGTTCTATGGGGAGCTCCGTGATAGGTCATCTAGACAGGGTGTGTATTATTTGAGAGTAAAACGAAATCCTCCTCGCATGTACGGGTCAATGGAATTCCCGGTCAGA',\n",
    "            'ATGGACACCTGGACATACTCCCAAGAGGCTGGAGCAGTGCCCCATTCCTCGGTGCCTCAAGTTCTGGGAATGTGCAATCCTCCGCGAGACATTCAAGGTTTCAGACCACGCGATCGGGTTAAGATACTATCTCAAGTACTTCTTTCGTGTAAGGCACCACTAGAATTGCTTACTTATCCAGGCGGACAAACTGCAATCCTATCTTCATGGGGGGTAGATTTACCATTTTGTAAGAATCTAGACGCACCACGTGGGCGTAGCGACAGGGAGACACAATGGAGCTGCATGATATGGCGGGATCCAAGATCCATGGCGAGCGCGTCATACTTTAGGTGC',\n",
    "            'ATGGTGCGCACGATTGAGTTGGAATTAGTCCCCAGACTGGCGACCATTACATACACCCTCCACCTTCCACGTCGGTTCAGCACGGGGTGGTGTTTCTCTCCAACACGAGGCCCGGGCGAATTAGTATTGATAATGCCTGGGCAGACAGCACTGGCCCGGCAGGAGATACTGGGCGATGGAAGACGTGGGTTAAGGCACGTCGGTTCTCTAGGTTTTCTATACTGGGCACGGAAGTTAGGGGCTAAAGAGCAACATACCTCTCCGCTGTCGGTCGATAGTGAGTCTTGCATAGCGATTGCTAAGAGCCTAGTTAAGCATACTCGTAACCGCGCCGCG',\n",
    "            'ATGCCTCCCGGTATCGCTGAGGCCCTAGCAAACGCACAGATCAACCAACTTGTGTCTAACGCCATGGGATCTGCCGCATTAGCTAACAATATTACGCCTATAACGCACGGCTTACCTTTCAAATGTGCTGACCAAGTGGCCTCGATACAATTAGGGACTACAGGGGATAGATGTGCAAGTTTGTTTCTATCAGCGCCGGTGATTCTACGACCGTGTAATCAGAGGGCAGCGAAGATGGATAAGGGGTTGACCAACATGCTCAGTAATGATCCAGGAGCCGGTTATGCCATGCGAATATGCATGTGCACAGTAGCCGGGAGAGCTTGTATTCGTATA',\n",
    "            'ATGACCCCACGCGGACCGTCAGGAGAAATCCTCTCACGGGATCCCGTCACTGTAACGCTCAGGGTCTTACGGCAACTCGAATGCTGTCGAAAATGTGGCAGTCAATCTCTATACCGGGGTCCGAGCTTTTTACATGTAATTTTGCAAGAATTCTTATATAGCACGATGAGACACGTACCCGATCACTTCGCCCAGCATACACTGATTAATACCGTCTATGTGATGTATTTACTTAAGACTCTCGCAACACCCGTGGCTTGGCGAAGTCTATCTGCACTAGTCGGGTCAGCCGTGCGGCGCGCACACACATCAAAGTGGCCGCAGTTGAGCGCAGTG']\n",
    "len(dna_seqs[0])"
   ]
  },
  {
   "cell_type": "code",
   "execution_count": 74,
   "id": "906e813a-ccce-40ea-9a2b-e9a41895c655",
   "metadata": {},
   "outputs": [
    {
     "data": {
      "text/plain": [
       "array([[[1.26897556e-311, 1.26897292e-311, 6.95335581e-310, ...,\n",
       "         1.26898967e-311, 1.26898967e-311, 1.26898967e-311],\n",
       "        [1.26898967e-311, 1.26898967e-311, 1.26898967e-311, ...,\n",
       "         1.26997417e-311, 1.26898974e-311, 1.26997417e-311],\n",
       "        [1.26898974e-311, 1.26898974e-311, 1.26997417e-311, ...,\n",
       "         1.26997417e-311, 1.26898975e-311, 1.26997417e-311],\n",
       "        [1.26898975e-311, 1.26997417e-311, 1.26898975e-311, ...,\n",
       "         6.95322186e-310, 6.95322186e-310, 1.26898976e-311],\n",
       "        [1.26898976e-311, 1.26898976e-311, 1.26898976e-311, ...,\n",
       "         1.26898975e-311, 1.26898975e-311, 1.26997417e-311]],\n",
       "\n",
       "       [[1.26898975e-311, 1.26898975e-311, 1.26997417e-311, ...,\n",
       "         1.26898974e-311, 1.26898974e-311, 1.26997417e-311],\n",
       "        [1.26898974e-311, 1.26898974e-311, 1.26997417e-311, ...,\n",
       "         1.26898975e-311, 1.26898975e-311, 1.26898975e-311],\n",
       "        [1.26898975e-311, 1.26898975e-311, 1.26898975e-311, ...,\n",
       "         1.26898971e-311, 1.26898971e-311, 1.26997417e-311],\n",
       "        [1.26898971e-311, 1.26898971e-311, 1.26997417e-311, ...,\n",
       "         1.26898971e-311, 1.26898971e-311, 1.26997417e-311],\n",
       "        [1.26898971e-311, 1.26898971e-311, 1.26997417e-311, ...,\n",
       "         1.26898967e-311, 1.26898967e-311, 1.26997417e-311]],\n",
       "\n",
       "       [[1.26898967e-311, 1.26898967e-311, 1.26997417e-311, ...,\n",
       "         0.00000000e+000, 0.00000000e+000, 0.00000000e+000],\n",
       "        [0.00000000e+000, 0.00000000e+000, 0.00000000e+000, ...,\n",
       "         0.00000000e+000, 0.00000000e+000, 0.00000000e+000],\n",
       "        [0.00000000e+000, 0.00000000e+000, 0.00000000e+000, ...,\n",
       "         0.00000000e+000, 0.00000000e+000, 0.00000000e+000],\n",
       "        [0.00000000e+000, 0.00000000e+000, 0.00000000e+000, ...,\n",
       "         0.00000000e+000, 0.00000000e+000, 0.00000000e+000],\n",
       "        [0.00000000e+000, 0.00000000e+000, 0.00000000e+000, ...,\n",
       "         0.00000000e+000, 0.00000000e+000, 0.00000000e+000]],\n",
       "\n",
       "       [[0.00000000e+000, 0.00000000e+000, 0.00000000e+000, ...,\n",
       "         5.57306049e-321, 1.26897252e-311, 2.85569943e-321],\n",
       "        [1.26897252e-311, 1.48219694e-323, 1.26897252e-311, ...,\n",
       "         2.91498731e-321, 1.26897252e-311, 5.56317917e-321],\n",
       "        [1.26897252e-311, 2.91498731e-321, 1.26897252e-311, ...,\n",
       "         6.95322183e-310, 4.94065646e-324, 0.00000000e+000],\n",
       "        [7.63918485e-313, 7.85138443e-313, 1.18575755e-322, ...,\n",
       "         1.26897252e-311, 5.56317917e-321, 1.26897252e-311],\n",
       "        [3.86853401e-321, 1.26897252e-311, 5.56811983e-321, ...,\n",
       "         6.95322180e-310, 4.94065646e-324, 0.00000000e+000]],\n",
       "\n",
       "       [[3.81959243e-313, 4.03179201e-313, 1.18575755e-322, ...,\n",
       "         1.69759664e-313, 3.18299369e-313, 1.18575755e-322],\n",
       "        [1.26997492e-311, 9.88131292e-324, 0.00000000e+000, ...,\n",
       "         1.26898301e-311, 1.26898301e-311, 1.26898301e-311],\n",
       "        [1.26898301e-311, 1.26898301e-311, 1.26898301e-311, ...,\n",
       "         1.26895348e-311, 1.26897253e-311, 1.26895348e-311],\n",
       "        [1.26897253e-311, 1.26895348e-311, 1.26897253e-311, ...,\n",
       "         1.26895348e-311, 1.26897253e-311, 1.26895348e-311],\n",
       "        [1.26897253e-311, 1.26895348e-311, 1.26897253e-311, ...,\n",
       "         1.26895348e-311, 1.26897253e-311, 1.26895348e-311]]])"
      ]
     },
     "execution_count": 74,
     "metadata": {},
     "output_type": "execute_result"
    }
   ],
   "source": [
    "dna_array = np.ndarray((5, 5, 336))\n",
    "dna_array"
   ]
  },
  {
   "cell_type": "code",
   "execution_count": 78,
   "id": "2735a61e-cc8a-45ec-a2c8-16da69727dfa",
   "metadata": {},
   "outputs": [
    {
     "data": {
      "text/plain": [
       "array([[[0., 0., 0., ..., 0., 0., 0.],\n",
       "        [0., 0., 0., ..., 0., 0., 0.],\n",
       "        [0., 0., 0., ..., 0., 0., 0.],\n",
       "        [0., 0., 0., ..., 0., 0., 0.],\n",
       "        [0., 0., 0., ..., 0., 0., 0.]],\n",
       "\n",
       "       [[0., 0., 0., ..., 0., 0., 0.],\n",
       "        [0., 0., 0., ..., 0., 0., 0.],\n",
       "        [0., 0., 0., ..., 0., 0., 0.],\n",
       "        [0., 0., 0., ..., 0., 0., 0.],\n",
       "        [0., 0., 0., ..., 0., 0., 0.]],\n",
       "\n",
       "       [[0., 0., 0., ..., 0., 0., 0.],\n",
       "        [0., 0., 0., ..., 0., 0., 0.],\n",
       "        [0., 0., 0., ..., 0., 0., 0.],\n",
       "        [0., 0., 0., ..., 0., 0., 0.],\n",
       "        [0., 0., 0., ..., 0., 0., 0.]],\n",
       "\n",
       "       [[0., 0., 0., ..., 0., 0., 0.],\n",
       "        [0., 0., 0., ..., 0., 0., 0.],\n",
       "        [0., 0., 0., ..., 0., 0., 0.],\n",
       "        [0., 0., 0., ..., 0., 0., 0.],\n",
       "        [0., 0., 0., ..., 0., 0., 0.]],\n",
       "\n",
       "       [[0., 0., 0., ..., 0., 0., 0.],\n",
       "        [0., 0., 0., ..., 0., 0., 0.],\n",
       "        [0., 0., 0., ..., 0., 0., 0.],\n",
       "        [0., 0., 0., ..., 0., 0., 0.],\n",
       "        [0., 0., 0., ..., 0., 0., 0.]]])"
      ]
     },
     "execution_count": 78,
     "metadata": {},
     "output_type": "execute_result"
    }
   ],
   "source": [
    "dna_array = np.zeros((5, 5, 336))\n",
    "dna_array"
   ]
  },
  {
   "cell_type": "code",
   "execution_count": 98,
   "id": "9a2fcabe-0b39-461a-b7e9-05d1141288ba",
   "metadata": {},
   "outputs": [
    {
     "data": {
      "text/plain": [
       "'A'"
      ]
     },
     "execution_count": 98,
     "metadata": {},
     "output_type": "execute_result"
    }
   ],
   "source": [
    "dna_seqs[0][0]"
   ]
  },
  {
   "cell_type": "code",
   "execution_count": 108,
   "id": "8b3fba43-a5a1-42fc-97dc-805aa38af1ea",
   "metadata": {},
   "outputs": [
    {
     "data": {
      "text/plain": [
       "5"
      ]
     },
     "execution_count": 108,
     "metadata": {},
     "output_type": "execute_result"
    }
   ],
   "source": [
    "len(dna_seqs)"
   ]
  },
  {
   "cell_type": "code",
   "execution_count": 106,
   "id": "028cf9cd-34ae-4155-8b60-dfe75b531bfe",
   "metadata": {},
   "outputs": [
    {
     "data": {
      "text/plain": [
       "range(0, 5)"
      ]
     },
     "execution_count": 106,
     "metadata": {},
     "output_type": "execute_result"
    }
   ],
   "source": [
    "range(len(dna_seqs))"
   ]
  },
  {
   "cell_type": "code",
   "execution_count": 104,
   "id": "99a6c7c9-d161-4fbe-acf0-7ac61ce8697e",
   "metadata": {},
   "outputs": [
    {
     "name": "stdout",
     "output_type": "stream",
     "text": [
      "ATGGGACTGCCCTTGATGCCTCACGTATCCAAAAGCGTATCATGGAGCACTCGGAAACGCACTATAGCAATACCAGACCGTGATATACAACCAGATCACTCTACGATTAAACGACTGCGCCGCCGTATTGCGCTGCTTATCCGAGAAGCAGTCCCTCGTGCGACGCAGCACCAAGAACAAGTCTCAGAGTACCTTTGGACGTATGACTTCAGGATCGAGTCGGCGGCTAGGTTCTATGGGGAGCTCCGTGATAGGTCATCTAGACAGGGTGTGTATTATTTGAGAGTAAAACGAAATCCTCCTCGCATGTACGGGTCAATGGAATTCCCGGTCAGA\n"
     ]
    }
   ],
   "source": [
    "for idx1 in range(len(dna_seqs)):\n",
    "    seq1 = dna_seqs[idx1]\n",
    "    print(seq1)\n",
    "    break"
   ]
  },
  {
   "cell_type": "code",
   "execution_count": 86,
   "id": "c6029a0d-3165-4beb-bd6c-265143d72247",
   "metadata": {},
   "outputs": [],
   "source": [
    "for idx1 in range(len(dna_seqs)):\n",
    "    seq1 = dna_seqs[idx1]\n",
    "    for idx2 in range(len(dna_seqs)):\n",
    "        seq2 = dna_seqs[idx2]\n",
    "        for nt in range(len(seq1)):\n",
    "            if seq1[nt] == seq2[nt]:\n",
    "                dna_array[idx1, idx2, nt] = 1\n",
    "            else:\n",
    "                dna_array[idx1, idx2, nt] = 0"
   ]
  },
  {
   "cell_type": "code",
   "execution_count": 88,
   "id": "3defaf4a-ff11-46ae-a34f-6c8250ba9329",
   "metadata": {},
   "outputs": [
    {
     "data": {
      "text/plain": [
       "array([1., 1., 1., 1., 1., 1., 1., 1., 1., 1., 1., 1., 1., 1., 1., 1., 1.,\n",
       "       1., 1., 1., 1., 1., 1., 1., 1., 1., 1., 1., 1., 1., 1., 1., 1., 1.,\n",
       "       1., 1., 1., 1., 1., 1., 1., 1., 1., 1., 1., 1., 1., 1., 1., 1., 1.,\n",
       "       1., 1., 1., 1., 1., 1., 1., 1., 1., 1., 1., 1., 1., 1., 1., 1., 1.,\n",
       "       1., 1., 1., 1., 1., 1., 1., 1., 1., 1., 1., 1., 1., 1., 1., 1., 1.,\n",
       "       1., 1., 1., 1., 1., 1., 1., 1., 1., 1., 1., 1., 1., 1., 1., 1., 1.,\n",
       "       1., 1., 1., 1., 1., 1., 1., 1., 1., 1., 1., 1., 1., 1., 1., 1., 1.,\n",
       "       1., 1., 1., 1., 1., 1., 1., 1., 1., 1., 1., 1., 1., 1., 1., 1., 1.,\n",
       "       1., 1., 1., 1., 1., 1., 1., 1., 1., 1., 1., 1., 1., 1., 1., 1., 1.,\n",
       "       1., 1., 1., 1., 1., 1., 1., 1., 1., 1., 1., 1., 1., 1., 1., 1., 1.,\n",
       "       1., 1., 1., 1., 1., 1., 1., 1., 1., 1., 1., 1., 1., 1., 1., 1., 1.,\n",
       "       1., 1., 1., 1., 1., 1., 1., 1., 1., 1., 1., 1., 1., 1., 1., 1., 1.,\n",
       "       1., 1., 1., 1., 1., 1., 1., 1., 1., 1., 1., 1., 1., 1., 1., 1., 1.,\n",
       "       1., 1., 1., 1., 1., 1., 1., 1., 1., 1., 1., 1., 1., 1., 1., 1., 1.,\n",
       "       1., 1., 1., 1., 1., 1., 1., 1., 1., 1., 1., 1., 1., 1., 1., 1., 1.,\n",
       "       1., 1., 1., 1., 1., 1., 1., 1., 1., 1., 1., 1., 1., 1., 1., 1., 1.,\n",
       "       1., 1., 1., 1., 1., 1., 1., 1., 1., 1., 1., 1., 1., 1., 1., 1., 1.,\n",
       "       1., 1., 1., 1., 1., 1., 1., 1., 1., 1., 1., 1., 1., 1., 1., 1., 1.,\n",
       "       1., 1., 1., 1., 1., 1., 1., 1., 1., 1., 1., 1., 1., 1., 1., 1., 1.,\n",
       "       1., 1., 1., 1., 1., 1., 1., 1., 1., 1., 1., 1., 1.])"
      ]
     },
     "execution_count": 88,
     "metadata": {},
     "output_type": "execute_result"
    }
   ],
   "source": [
    "dna_array[1, 1, :]"
   ]
  },
  {
   "cell_type": "code",
   "execution_count": 92,
   "id": "12199435-c382-4ef8-9f39-f7d5275c5c34",
   "metadata": {},
   "outputs": [
    {
     "data": {
      "text/plain": [
       "array([1., 1., 1., 1., 0., 0., 0., 0., 1., 0., 0., 1., 1., 0., 0., 0., 1.,\n",
       "       0., 1., 0., 0., 0., 1., 1., 0., 0., 0., 1., 0., 0., 0., 0., 0., 0.,\n",
       "       0., 1., 0., 1., 1., 0., 1., 0., 0., 0., 0., 0., 0., 0., 0., 1., 0.,\n",
       "       0., 0., 0., 0., 1., 0., 1., 0., 0., 0., 0., 0., 1., 1., 0., 0., 0.,\n",
       "       1., 0., 0., 0., 0., 1., 0., 0., 0., 0., 0., 0., 0., 0., 1., 1., 0.,\n",
       "       1., 0., 0., 0., 0., 0., 0., 1., 0., 0., 0., 0., 0., 1., 0., 0., 0.,\n",
       "       1., 0., 1., 1., 0., 1., 0., 1., 1., 0., 0., 0., 0., 1., 0., 1., 0.,\n",
       "       0., 0., 0., 0., 0., 1., 1., 0., 1., 0., 0., 0., 0., 0., 0., 0., 0.,\n",
       "       0., 0., 0., 0., 0., 1., 0., 0., 0., 1., 0., 0., 0., 0., 0., 0., 1.,\n",
       "       1., 1., 0., 1., 0., 0., 1., 0., 0., 1., 1., 0., 0., 1., 0., 1., 1.,\n",
       "       0., 0., 0., 0., 0., 1., 1., 0., 0., 1., 0., 1., 0., 0., 1., 0., 0.,\n",
       "       0., 0., 0., 0., 0., 0., 0., 0., 0., 0., 1., 0., 1., 0., 0., 0., 1.,\n",
       "       1., 1., 0., 0., 0., 0., 1., 1., 0., 0., 1., 0., 0., 0., 0., 1., 0.,\n",
       "       0., 0., 0., 0., 0., 0., 0., 0., 1., 0., 1., 1., 1., 0., 0., 0., 0.,\n",
       "       0., 0., 1., 0., 0., 0., 0., 1., 0., 0., 0., 1., 0., 0., 0., 0., 0.,\n",
       "       0., 0., 0., 0., 0., 0., 0., 0., 0., 0., 0., 1., 0., 0., 1., 0., 0.,\n",
       "       0., 0., 1., 0., 0., 1., 0., 0., 0., 0., 1., 0., 0., 0., 0., 0., 1.,\n",
       "       1., 1., 0., 0., 1., 0., 0., 0., 1., 0., 1., 0., 0., 0., 1., 1., 0.,\n",
       "       0., 0., 0., 0., 1., 0., 0., 0., 1., 0., 0., 0., 0., 1., 0., 0., 0.,\n",
       "       0., 0., 1., 1., 0., 0., 0., 0., 0., 0., 0., 0., 0.])"
      ]
     },
     "execution_count": 92,
     "metadata": {},
     "output_type": "execute_result"
    }
   ],
   "source": [
    "dna_array[1, 2, :]"
   ]
  },
  {
   "cell_type": "code",
   "execution_count": 118,
   "id": "1a84bc84-419e-47b6-915d-7e9a41b9647d",
   "metadata": {},
   "outputs": [
    {
     "data": {
      "text/plain": [
       "90.0"
      ]
     },
     "execution_count": 118,
     "metadata": {},
     "output_type": "execute_result"
    }
   ],
   "source": [
    "np.sum(dna_array[1,2,:])"
   ]
  },
  {
   "cell_type": "code",
   "execution_count": 183,
   "id": "a1f134da-4920-4047-ad18-4c47129477c7",
   "metadata": {},
   "outputs": [
    {
     "data": {
      "text/plain": [
       "9.0"
      ]
     },
     "execution_count": 183,
     "metadata": {},
     "output_type": "execute_result"
    }
   ],
   "source": [
    "np.sum(dna_array[:, :, 99])"
   ]
  },
  {
   "cell_type": "code",
   "execution_count": 130,
   "id": "363411b3-0dfe-47e0-868e-69907ed4fab9",
   "metadata": {},
   "outputs": [
    {
     "name": "stdout",
     "output_type": "stream",
     "text": [
      "     Names Office             Department\n",
      "0     Mike   6.17             Immunology\n",
      "1   Daniel   5.23           Neuroscience\n",
      "2    Ellie   3.20  Developmental Biology\n",
      "3  Heather   3.18             Immunology\n"
     ]
    }
   ],
   "source": [
    "phone_book = {\"Names\": [\"Mike\", \"Daniel\", \"Ellie\", \"Heather\"],\n",
    "             \"Office\": [\"6.17\", \"5.23\", \"3.20\", \"3.18\"],\n",
    "             \"Department\": [\"Immunology\", \"Neuroscience\", \"Developmental Biology\", \"Immunology\"]}\n",
    "pb_df = pd.DataFrame(phone_book)\n",
    "print(pb_df)"
   ]
  },
  {
   "cell_type": "code",
   "execution_count": 132,
   "id": "9a75f679-b7fa-41a6-b544-5e49e9d353b2",
   "metadata": {},
   "outputs": [
    {
     "data": {
      "text/plain": [
       "(4, 3)"
      ]
     },
     "execution_count": 132,
     "metadata": {},
     "output_type": "execute_result"
    }
   ],
   "source": [
    "pb_df.shape"
   ]
  },
  {
   "cell_type": "code",
   "execution_count": 134,
   "id": "96688371-7b96-4ba3-bae9-211396c7a1a3",
   "metadata": {},
   "outputs": [
    {
     "data": {
      "text/html": [
       "<div>\n",
       "<style scoped>\n",
       "    .dataframe tbody tr th:only-of-type {\n",
       "        vertical-align: middle;\n",
       "    }\n",
       "\n",
       "    .dataframe tbody tr th {\n",
       "        vertical-align: top;\n",
       "    }\n",
       "\n",
       "    .dataframe thead th {\n",
       "        text-align: right;\n",
       "    }\n",
       "</style>\n",
       "<table border=\"1\" class=\"dataframe\">\n",
       "  <thead>\n",
       "    <tr style=\"text-align: right;\">\n",
       "      <th></th>\n",
       "      <th>Office</th>\n",
       "      <th>Department</th>\n",
       "    </tr>\n",
       "    <tr>\n",
       "      <th>Names</th>\n",
       "      <th></th>\n",
       "      <th></th>\n",
       "    </tr>\n",
       "  </thead>\n",
       "  <tbody>\n",
       "    <tr>\n",
       "      <th>Mike</th>\n",
       "      <td>6.17</td>\n",
       "      <td>Immunology</td>\n",
       "    </tr>\n",
       "    <tr>\n",
       "      <th>Daniel</th>\n",
       "      <td>5.23</td>\n",
       "      <td>Neuroscience</td>\n",
       "    </tr>\n",
       "    <tr>\n",
       "      <th>Ellie</th>\n",
       "      <td>3.20</td>\n",
       "      <td>Developmental Biology</td>\n",
       "    </tr>\n",
       "    <tr>\n",
       "      <th>Heather</th>\n",
       "      <td>3.18</td>\n",
       "      <td>Immunology</td>\n",
       "    </tr>\n",
       "  </tbody>\n",
       "</table>\n",
       "</div>"
      ],
      "text/plain": [
       "        Office             Department\n",
       "Names                                \n",
       "Mike      6.17             Immunology\n",
       "Daniel    5.23           Neuroscience\n",
       "Ellie     3.20  Developmental Biology\n",
       "Heather   3.18             Immunology"
      ]
     },
     "execution_count": 134,
     "metadata": {},
     "output_type": "execute_result"
    }
   ],
   "source": [
    "pb_df.set_index(\"Names\")"
   ]
  },
  {
   "cell_type": "code",
   "execution_count": 146,
   "id": "ae2042b1-059f-47ed-a4b9-cab5d2b3972f",
   "metadata": {},
   "outputs": [
    {
     "data": {
      "text/plain": [
       "0    True\n",
       "1    True\n",
       "2    True\n",
       "3    True\n",
       "Name: Names, dtype: bool"
      ]
     },
     "execution_count": 146,
     "metadata": {},
     "output_type": "execute_result"
    }
   ],
   "source": [
    "pb_df.iloc[:, 0] == pb_df[\"Names\"]"
   ]
  },
  {
   "cell_type": "code",
   "execution_count": 154,
   "id": "d236edb0-29a7-4930-9e57-e055122d1f35",
   "metadata": {},
   "outputs": [
    {
     "data": {
      "text/html": [
       "<div>\n",
       "<style scoped>\n",
       "    .dataframe tbody tr th:only-of-type {\n",
       "        vertical-align: middle;\n",
       "    }\n",
       "\n",
       "    .dataframe tbody tr th {\n",
       "        vertical-align: top;\n",
       "    }\n",
       "\n",
       "    .dataframe thead th {\n",
       "        text-align: right;\n",
       "    }\n",
       "</style>\n",
       "<table border=\"1\" class=\"dataframe\">\n",
       "  <thead>\n",
       "    <tr style=\"text-align: right;\">\n",
       "      <th></th>\n",
       "      <th>Names</th>\n",
       "      <th>Office</th>\n",
       "      <th>Department</th>\n",
       "    </tr>\n",
       "    <tr>\n",
       "      <th>Names</th>\n",
       "      <th></th>\n",
       "      <th></th>\n",
       "      <th></th>\n",
       "    </tr>\n",
       "  </thead>\n",
       "  <tbody>\n",
       "    <tr>\n",
       "      <th>Mike</th>\n",
       "      <td>Mike</td>\n",
       "      <td>6.17</td>\n",
       "      <td>Immunology</td>\n",
       "    </tr>\n",
       "    <tr>\n",
       "      <th>Daniel</th>\n",
       "      <td>Daniel</td>\n",
       "      <td>5.23</td>\n",
       "      <td>Neuroscience</td>\n",
       "    </tr>\n",
       "    <tr>\n",
       "      <th>Ellie</th>\n",
       "      <td>Ellie</td>\n",
       "      <td>3.20</td>\n",
       "      <td>Developmental Biology</td>\n",
       "    </tr>\n",
       "    <tr>\n",
       "      <th>Heather</th>\n",
       "      <td>Heather</td>\n",
       "      <td>3.18</td>\n",
       "      <td>Immunology</td>\n",
       "    </tr>\n",
       "  </tbody>\n",
       "</table>\n",
       "</div>"
      ],
      "text/plain": [
       "           Names Office             Department\n",
       "Names                                         \n",
       "Mike        Mike   6.17             Immunology\n",
       "Daniel    Daniel   5.23           Neuroscience\n",
       "Ellie      Ellie   3.20  Developmental Biology\n",
       "Heather  Heather   3.18             Immunology"
      ]
     },
     "execution_count": 154,
     "metadata": {},
     "output_type": "execute_result"
    }
   ],
   "source": [
    "pb_df.set_index(\"Names\", inplace=True, drop=False)\n",
    "pb_df"
   ]
  },
  {
   "cell_type": "code",
   "execution_count": 156,
   "id": "edd7ae06-fe23-4c71-accb-fc35b4ca0bf5",
   "metadata": {},
   "outputs": [
    {
     "data": {
      "text/plain": [
       "Names               Mike\n",
       "Office              6.17\n",
       "Department    Immunology\n",
       "Name: Mike, dtype: object"
      ]
     },
     "execution_count": 156,
     "metadata": {},
     "output_type": "execute_result"
    }
   ],
   "source": [
    "pb_df.loc[\"Mike\", :]"
   ]
  },
  {
   "cell_type": "code",
   "execution_count": 158,
   "id": "599f0187-45de-44f3-baec-f519496395d9",
   "metadata": {},
   "outputs": [
    {
     "data": {
      "text/html": [
       "<div>\n",
       "<style scoped>\n",
       "    .dataframe tbody tr th:only-of-type {\n",
       "        vertical-align: middle;\n",
       "    }\n",
       "\n",
       "    .dataframe tbody tr th {\n",
       "        vertical-align: top;\n",
       "    }\n",
       "\n",
       "    .dataframe thead th {\n",
       "        text-align: right;\n",
       "    }\n",
       "</style>\n",
       "<table border=\"1\" class=\"dataframe\">\n",
       "  <thead>\n",
       "    <tr style=\"text-align: right;\">\n",
       "      <th></th>\n",
       "      <th>Names</th>\n",
       "      <th>Office</th>\n",
       "      <th>Department</th>\n",
       "    </tr>\n",
       "    <tr>\n",
       "      <th>Names</th>\n",
       "      <th></th>\n",
       "      <th></th>\n",
       "      <th></th>\n",
       "    </tr>\n",
       "  </thead>\n",
       "  <tbody>\n",
       "    <tr>\n",
       "      <th>Mike</th>\n",
       "      <td>Mike</td>\n",
       "      <td>6.17</td>\n",
       "      <td>Immunology</td>\n",
       "    </tr>\n",
       "    <tr>\n",
       "      <th>Heather</th>\n",
       "      <td>Heather</td>\n",
       "      <td>3.18</td>\n",
       "      <td>Immunology</td>\n",
       "    </tr>\n",
       "  </tbody>\n",
       "</table>\n",
       "</div>"
      ],
      "text/plain": [
       "           Names Office  Department\n",
       "Names                              \n",
       "Mike        Mike   6.17  Immunology\n",
       "Heather  Heather   3.18  Immunology"
      ]
     },
     "execution_count": 158,
     "metadata": {},
     "output_type": "execute_result"
    }
   ],
   "source": [
    "pb_df.loc[[\"Mike\", \"Heather\"], :]"
   ]
  },
  {
   "cell_type": "code",
   "execution_count": 164,
   "id": "e44c34f5-1f40-4a9a-8e65-a21bc019ce69",
   "metadata": {},
   "outputs": [
    {
     "data": {
      "text/html": [
       "<div>\n",
       "<style scoped>\n",
       "    .dataframe tbody tr th:only-of-type {\n",
       "        vertical-align: middle;\n",
       "    }\n",
       "\n",
       "    .dataframe tbody tr th {\n",
       "        vertical-align: top;\n",
       "    }\n",
       "\n",
       "    .dataframe thead th {\n",
       "        text-align: right;\n",
       "    }\n",
       "</style>\n",
       "<table border=\"1\" class=\"dataframe\">\n",
       "  <thead>\n",
       "    <tr style=\"text-align: right;\">\n",
       "      <th></th>\n",
       "      <th>Names</th>\n",
       "      <th>Office</th>\n",
       "      <th>Department</th>\n",
       "    </tr>\n",
       "  </thead>\n",
       "  <tbody>\n",
       "    <tr>\n",
       "      <th>0</th>\n",
       "      <td>Mike</td>\n",
       "      <td>6.17</td>\n",
       "      <td>Immunology</td>\n",
       "    </tr>\n",
       "    <tr>\n",
       "      <th>1</th>\n",
       "      <td>Daniel</td>\n",
       "      <td>5.23</td>\n",
       "      <td>Neuroscience</td>\n",
       "    </tr>\n",
       "    <tr>\n",
       "      <th>2</th>\n",
       "      <td>Ellie</td>\n",
       "      <td>3.20</td>\n",
       "      <td>Developmental Biology</td>\n",
       "    </tr>\n",
       "    <tr>\n",
       "      <th>3</th>\n",
       "      <td>Heather</td>\n",
       "      <td>3.18</td>\n",
       "      <td>Immunology</td>\n",
       "    </tr>\n",
       "  </tbody>\n",
       "</table>\n",
       "</div>"
      ],
      "text/plain": [
       "     Names Office             Department\n",
       "0     Mike   6.17             Immunology\n",
       "1   Daniel   5.23           Neuroscience\n",
       "2    Ellie   3.20  Developmental Biology\n",
       "3  Heather   3.18             Immunology"
      ]
     },
     "execution_count": 164,
     "metadata": {},
     "output_type": "execute_result"
    }
   ],
   "source": [
    "phone_list = {\"Names\": [\"Mike\", \"Daniel\", \"Ellie\", \"Heather\"],\n",
    "             \"Office\": [\"6.17\", \"5.23\", \"3.20\", \"3.18\"],\n",
    "             \"Department\": [\"Immunology\", \"Neuroscience\", \"Developmental Biology\", \"Immunology\"]}\n",
    "list_df = pd.DataFrame(phone_list)\n",
    "list_df"
   ]
  },
  {
   "cell_type": "code",
   "execution_count": 171,
   "id": "905296f4-087a-4ce9-9e25-f16fe1073b06",
   "metadata": {},
   "outputs": [],
   "source": [
    "import re"
   ]
  },
  {
   "cell_type": "code",
   "execution_count": 173,
   "id": "03683cd8-b487-42dd-9df0-01fa0d6f528d",
   "metadata": {},
   "outputs": [
    {
     "data": {
      "text/plain": [
       "re.compile(r'TATA[A|T]A[A|T]', re.UNICODE)"
      ]
     },
     "execution_count": 173,
     "metadata": {},
     "output_type": "execute_result"
    }
   ],
   "source": [
    "tata_re = re.compile(\"TATA[A|T]A[A|T]\")\n",
    "tata_re"
   ]
  },
  {
   "cell_type": "code",
   "execution_count": 175,
   "id": "46609f9b-f01e-42a8-a944-f26e7e7f9507",
   "metadata": {},
   "outputs": [
    {
     "data": {
      "text/plain": [
       "<re.Match object; span=(37, 44), match='TATATAT'>"
      ]
     },
     "execution_count": 175,
     "metadata": {},
     "output_type": "execute_result"
    }
   ],
   "source": [
    "bact_seq = \"CACTTCAGGTTAAGCGGCGCGGCCTGCGCATTTTGGATATATATAATCCT\"\n",
    "tata_match = tata_re.search(bact_seq)\n",
    "tata_match"
   ]
  },
  {
   "cell_type": "code",
   "execution_count": 177,
   "id": "b5a342bc-b861-45c4-9ce6-5c72b6c2d4ea",
   "metadata": {},
   "outputs": [
    {
     "data": {
      "text/plain": [
       "'TATATAT'"
      ]
     },
     "execution_count": 177,
     "metadata": {},
     "output_type": "execute_result"
    }
   ],
   "source": [
    "tata_idx = tata_match.span()\n",
    "bact_seq[tata_idx[0]:tata_idx[1]]"
   ]
  },
  {
   "cell_type": "code",
   "execution_count": 179,
   "id": "1fa6b58c-d603-4aec-ae0c-f97080d9af24",
   "metadata": {},
   "outputs": [
    {
     "data": {
      "text/plain": [
       "'TATATAT'"
      ]
     },
     "execution_count": 179,
     "metadata": {},
     "output_type": "execute_result"
    }
   ],
   "source": [
    "tata_match.group(0)"
   ]
  },
  {
   "cell_type": "code",
   "execution_count": 2,
   "id": "202ddb0c-15ee-402d-b2f5-e163fc61d372",
   "metadata": {},
   "outputs": [
    {
     "name": "stdout",
     "output_type": "stream",
     "text": [
      "test\n"
     ]
    }
   ],
   "source": [
    "print(\"test\")"
   ]
  },
  {
   "cell_type": "code",
   "execution_count": null,
   "id": "b3d1e4e5-9f5d-4210-a4d9-3a53f7ef56ca",
   "metadata": {},
   "outputs": [],
   "source": []
  }
 ],
 "metadata": {
  "kernelspec": {
   "display_name": "Python 3 (ipykernel)",
   "language": "python",
   "name": "python3"
  },
  "language_info": {
   "codemirror_mode": {
    "name": "ipython",
    "version": 3
   },
   "file_extension": ".py",
   "mimetype": "text/x-python",
   "name": "python",
   "nbconvert_exporter": "python",
   "pygments_lexer": "ipython3",
   "version": "3.11.7"
  }
 },
 "nbformat": 4,
 "nbformat_minor": 5
}
